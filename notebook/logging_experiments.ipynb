{
 "cells": [
  {
   "cell_type": "code",
   "execution_count": 1,
   "id": "02fb0457",
   "metadata": {},
   "outputs": [
    {
     "name": "stdout",
     "output_type": "stream",
     "text": [
      "All ok!\n"
     ]
    }
   ],
   "source": [
    "print(\"All ok!\")"
   ]
  },
  {
   "cell_type": "code",
   "execution_count": 3,
   "id": "46bf8c99",
   "metadata": {},
   "outputs": [],
   "source": [
    "import logging\n",
    "import os\n",
    "from datetime import datetime"
   ]
  },
  {
   "cell_type": "code",
   "execution_count": 5,
   "id": "50086551",
   "metadata": {},
   "outputs": [],
   "source": [
    "logs_dir = os.path.join(os.getcwd(), \"logs\")"
   ]
  },
  {
   "cell_type": "code",
   "execution_count": 6,
   "id": "848cb1c9",
   "metadata": {},
   "outputs": [],
   "source": [
    "os.makedirs(logs_dir, exist_ok=True)"
   ]
  },
  {
   "cell_type": "code",
   "execution_count": 7,
   "id": "740648b1",
   "metadata": {},
   "outputs": [],
   "source": [
    "LOG_FILE = f\"{datetime.now().strftime('%d-%m-%Y_%H-%M-%S')}.log\""
   ]
  },
  {
   "cell_type": "code",
   "execution_count": null,
   "id": "185aa405",
   "metadata": {},
   "outputs": [
    {
     "data": {
      "text/plain": [
       "'28-07-2025_18-45-31.log'"
      ]
     },
     "execution_count": 8,
     "metadata": {},
     "output_type": "execute_result"
    }
   ],
   "source": [
    "# This is the log file and name of logfile is curent date and time\n",
    "LOG_FILE"
   ]
  },
  {
   "cell_type": "code",
   "execution_count": 11,
   "id": "8558ea23",
   "metadata": {},
   "outputs": [],
   "source": [
    "LOG_FILE_PATH = os.path.join(logs_dir,LOG_FILE)"
   ]
  },
  {
   "cell_type": "code",
   "execution_count": 15,
   "id": "50deb1ae",
   "metadata": {},
   "outputs": [],
   "source": [
    "logging.basicConfig(\n",
    "    filename=LOG_FILE_PATH,\n",
    "    format='[%(asctime)s] - %(name)s - %(levelname)s - %(message)s',\n",
    "    level=logging.INFO,\n",
    ")"
   ]
  },
  {
   "cell_type": "code",
   "execution_count": 13,
   "id": "7731f239",
   "metadata": {},
   "outputs": [],
   "source": [
    "logger=logging.getLogger(\"DocumentPortal\")"
   ]
  },
  {
   "cell_type": "code",
   "execution_count": null,
   "id": "effa42f8",
   "metadata": {},
   "outputs": [],
   "source": [
    "logger.info(\"This is an info message\") "
   ]
  }
 ],
 "metadata": {
  "kernelspec": {
   "display_name": "env",
   "language": "python",
   "name": "python3"
  },
  "language_info": {
   "codemirror_mode": {
    "name": "ipython",
    "version": 3
   },
   "file_extension": ".py",
   "mimetype": "text/x-python",
   "name": "python",
   "nbconvert_exporter": "python",
   "pygments_lexer": "ipython3",
   "version": "3.10.18"
  }
 },
 "nbformat": 4,
 "nbformat_minor": 5
}
