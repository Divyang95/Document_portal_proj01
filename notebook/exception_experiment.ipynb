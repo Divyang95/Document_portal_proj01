{
 "cells": [
  {
   "cell_type": "code",
   "execution_count": 1,
   "id": "08ee827a",
   "metadata": {},
   "outputs": [
    {
     "name": "stdout",
     "output_type": "stream",
     "text": [
      "All ok\n"
     ]
    }
   ],
   "source": [
    "print(\"All ok\")"
   ]
  },
  {
   "cell_type": "code",
   "execution_count": 12,
   "id": "1c6ba872",
   "metadata": {},
   "outputs": [],
   "source": [
    "from logger.custom_logger import CustomLogger"
   ]
  },
  {
   "cell_type": "code",
   "execution_count": 17,
   "id": "4d39e232",
   "metadata": {},
   "outputs": [],
   "source": [
    "logger = CustomLogger().get_logger(\"exception_experiment\")"
   ]
  },
  {
   "cell_type": "code",
   "execution_count": 2,
   "id": "88669604",
   "metadata": {},
   "outputs": [],
   "source": [
    "import sys \n",
    "import traceback\n"
   ]
  },
  {
   "cell_type": "code",
   "execution_count": 18,
   "id": "29ba8fd7",
   "metadata": {},
   "outputs": [
    {
     "ename": "DocumentPortalException",
     "evalue": " \n        Error in division by zero occurred in file C:\\Users\\dell\\AppData\\Local\\Temp\\ipykernel_28432\\3038413918.py\n         at line 18. Traceback: Traceback (most recent call last):\n   File \"C:\\Users\\dell\\AppData\\Local\\Temp\\ipykernel_28432\\3038413918.py\", line 18, in <module>\n    a = 1 / 0\n ZeroDivisionError: division by zero\n ",
     "output_type": "error",
     "traceback": [
      "\u001b[1;31m---------------------------------------------------------------------------\u001b[0m",
      "\u001b[1;31mZeroDivisionError\u001b[0m                         Traceback (most recent call last)",
      "Cell \u001b[1;32mIn[18], line 18\u001b[0m\n\u001b[0;32m     16\u001b[0m \u001b[38;5;28;01mtry\u001b[39;00m:\n\u001b[0;32m     17\u001b[0m     \u001b[38;5;66;03m# Simulating an error\u001b[39;00m\n\u001b[1;32m---> 18\u001b[0m     a \u001b[38;5;241m=\u001b[39m \u001b[38;5;241;43m1\u001b[39;49m\u001b[43m \u001b[49m\u001b[38;5;241;43m/\u001b[39;49m\u001b[43m \u001b[49m\u001b[38;5;241;43m0\u001b[39;49m   \n\u001b[0;32m     19\u001b[0m     \u001b[38;5;28mprint\u001b[39m(a)\n",
      "\u001b[1;31mZeroDivisionError\u001b[0m: division by zero",
      "\nDuring handling of the above exception, another exception occurred:\n",
      "\u001b[1;31mDocumentPortalException\u001b[0m                   Traceback (most recent call last)",
      "Cell \u001b[1;32mIn[18], line 23\u001b[0m\n\u001b[0;32m     21\u001b[0m app_exception \u001b[38;5;241m=\u001b[39m DocumentPortalException(e,sys)\n\u001b[0;32m     22\u001b[0m logger\u001b[38;5;241m.\u001b[39merror(app_exception)\n\u001b[1;32m---> 23\u001b[0m \u001b[38;5;28;01mraise\u001b[39;00m app_exception\n",
      "\u001b[1;31mDocumentPortalException\u001b[0m:  \n        Error in division by zero occurred in file C:\\Users\\dell\\AppData\\Local\\Temp\\ipykernel_28432\\3038413918.py\n         at line 18. Traceback: Traceback (most recent call last):\n   File \"C:\\Users\\dell\\AppData\\Local\\Temp\\ipykernel_28432\\3038413918.py\", line 18, in <module>\n    a = 1 / 0\n ZeroDivisionError: division by zero\n "
     ]
    }
   ],
   "source": [
    "class DocumentPortalException(Exception):\n",
    "    \"\"\"Custom exception for Document Portal errors.\"\"\"\n",
    "    def __init__(self,error_message, error_details:sys):\n",
    "        _,_,exc_tb=error_details.exc_info() \n",
    "        self.file_name=exc_tb.tb_frame.f_code.co_filename\n",
    "        self.lineno=exc_tb.tb_lineno \n",
    "        self.error_message=str(error_message)\n",
    "        self.traceback_str=\" \".join(traceback.format_exception(*error_details.exc_info()))\n",
    "\n",
    "    def __str__(self):\n",
    "        return f\"\"\" \n",
    "        Error in {self.error_message} occurred in file {self.file_name}\n",
    "         at line {self.lineno}. Traceback: {self.traceback_str} \"\"\"\n",
    "\n",
    "if __name__ == \"__main__\":\n",
    "    try:\n",
    "        # Simulating an error\n",
    "        a = 1 / 0   \n",
    "        print(a)\n",
    "    except Exception as e:\n",
    "        app_exception = DocumentPortalException(e,sys)\n",
    "        logger.error(app_exception)\n",
    "        raise app_exception"
   ]
  }
 ],
 "metadata": {
  "kernelspec": {
   "display_name": "env",
   "language": "python",
   "name": "python3"
  },
  "language_info": {
   "codemirror_mode": {
    "name": "ipython",
    "version": 3
   },
   "file_extension": ".py",
   "mimetype": "text/x-python",
   "name": "python",
   "nbconvert_exporter": "python",
   "pygments_lexer": "ipython3",
   "version": "3.10.18"
  }
 },
 "nbformat": 4,
 "nbformat_minor": 5
}
